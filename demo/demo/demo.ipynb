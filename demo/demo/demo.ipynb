{
 "cells": [
  {
   "cell_type": "code",
   "execution_count": 12,
   "metadata": {},
   "outputs": [],
   "source": [
    "from qiskit import QuantumCircuit, transpile"
   ]
  },
  {
   "cell_type": "code",
   "execution_count": 14,
   "metadata": {},
   "outputs": [
    {
     "data": {
      "text/html": [
       "<pre style=\"word-wrap: normal;white-space: pre;background: #fff0;line-height: 1.1;font-family: &quot;Courier New&quot;,Courier,monospace\">          \n",
       "q_0: ──■──\n",
       "       │  \n",
       "q_1: ──┼──\n",
       "       │  \n",
       "q_2: ──┼──\n",
       "       │  \n",
       "q_3: ──┼──\n",
       "       │  \n",
       "q_4: ──┼──\n",
       "       │  \n",
       "q_5: ──┼──\n",
       "       │  \n",
       "q_6: ──┼──\n",
       "       │  \n",
       "q_7: ──┼──\n",
       "       │  \n",
       "q_8: ──┼──\n",
       "     ┌─┴─┐\n",
       "q_9: ┤ X ├\n",
       "     └───┘</pre>"
      ],
      "text/plain": [
       "          \n",
       "q_0: ──■──\n",
       "       │  \n",
       "q_1: ──┼──\n",
       "       │  \n",
       "q_2: ──┼──\n",
       "       │  \n",
       "q_3: ──┼──\n",
       "       │  \n",
       "q_4: ──┼──\n",
       "       │  \n",
       "q_5: ──┼──\n",
       "       │  \n",
       "q_6: ──┼──\n",
       "       │  \n",
       "q_7: ──┼──\n",
       "       │  \n",
       "q_8: ──┼──\n",
       "     ┌─┴─┐\n",
       "q_9: ┤ X ├\n",
       "     └───┘"
      ]
     },
     "execution_count": 14,
     "metadata": {},
     "output_type": "execute_result"
    }
   ],
   "source": [
    "circuit = QuantumCircuit(10)\n",
    "\n",
    "circuit.cx(0, 9)\n",
    "\n",
    "circuit.draw()"
   ]
  },
  {
   "cell_type": "code",
   "execution_count": 3,
   "metadata": {},
   "outputs": [],
   "source": [
    "from qiskit_ibm_provider import IBMProvider"
   ]
  },
  {
   "cell_type": "code",
   "execution_count": 4,
   "metadata": {},
   "outputs": [],
   "source": [
    "provider = IBMProvider()"
   ]
  },
  {
   "cell_type": "code",
   "execution_count": 5,
   "metadata": {},
   "outputs": [],
   "source": [
    "backend = provider.get_backend('ibm_quebec')"
   ]
  },
  {
   "cell_type": "code",
   "execution_count": 6,
   "metadata": {},
   "outputs": [],
   "source": [
    "from qiskit.transpiler.preset_passmanagers.plugin import passmanager_stage_plugins"
   ]
  },
  {
   "cell_type": "code",
   "execution_count": 23,
   "metadata": {},
   "outputs": [
    {
     "data": {
      "text/plain": [
       "{'xg_swap': <xg_swap.plugin.XGSwapPlugin at 0x3218e27d0>,\n",
       " 'basic': <qiskit.transpiler.preset_passmanagers.builtin_plugins.BasicSwapPassManager at 0x3218e2740>,\n",
       " 'lookahead': <qiskit.transpiler.preset_passmanagers.builtin_plugins.LookaheadSwapPassManager at 0x3218e26b0>,\n",
       " 'none': <qiskit.transpiler.preset_passmanagers.builtin_plugins.NoneRoutingPassManager at 0x3218e2620>,\n",
       " 'sabre': <qiskit.transpiler.preset_passmanagers.builtin_plugins.SabreSwapPassManager at 0x3218e2590>,\n",
       " 'stochastic': <qiskit.transpiler.preset_passmanagers.builtin_plugins.StochasticSwapPassManager at 0x3218e2500>}"
      ]
     },
     "execution_count": 23,
     "metadata": {},
     "output_type": "execute_result"
    }
   ],
   "source": [
    "passmanager_stage_plugins(stage='routing')"
   ]
  },
  {
   "cell_type": "code",
   "execution_count": 21,
   "metadata": {},
   "outputs": [
    {
     "name": "stderr",
     "output_type": "stream",
     "text": [
      "\u001b[32m2024-04-30 11:41:41.425\u001b[0m | \u001b[34m\u001b[1mDEBUG   \u001b[0m | \u001b[36mquantxg.inference\u001b[0m:\u001b[36m__init__\u001b[0m:\u001b[36m15\u001b[0m - \u001b[34m\u001b[1mQuantXGUnitaryPredictor -model_name: xgboost_ident_v2\u001b[0m\n"
     ]
    }
   ],
   "source": [
    "transpiled_circuit = transpile(\n",
    "    routing_method=\"xg_swap\",\n",
    "    circuits=circuit,\n",
    "    initial_layout=[q for q in range(10)],\n",
    "    backend=backend\n",
    ")"
   ]
  }
 ],
 "metadata": {
  "kernelspec": {
   "display_name": "Python 3 (ipykernel)",
   "language": "python",
   "name": "python3"
  },
  "language_info": {
   "codemirror_mode": {
    "name": "ipython",
    "version": 3
   },
   "file_extension": ".py",
   "mimetype": "text/x-python",
   "name": "python",
   "nbconvert_exporter": "python",
   "pygments_lexer": "ipython3",
   "version": "3.10.8"
  }
 },
 "nbformat": 4,
 "nbformat_minor": 4
}
